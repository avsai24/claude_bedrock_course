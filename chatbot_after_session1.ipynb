{
 "cells": [
  {
   "cell_type": "code",
   "execution_count": 12,
   "id": "a85a9437",
   "metadata": {},
   "outputs": [],
   "source": [
    "import boto3"
   ]
  },
  {
   "cell_type": "code",
   "execution_count": 13,
   "id": "a78c10bc",
   "metadata": {},
   "outputs": [],
   "source": [
    "def add_user_message(messages,text):\n",
    "    user_message = {\n",
    "        \"role\": \"user\",\n",
    "        \"content\": [\n",
    "            {\"text\": text}\n",
    "        ]\n",
    "    }\n",
    "    messages.append(user_message)"
   ]
  },
  {
   "cell_type": "code",
   "execution_count": 14,
   "id": "e04aabec",
   "metadata": {},
   "outputs": [],
   "source": [
    "def add_assistant_message(messages,text):\n",
    "    assistant_message = {\n",
    "        \"role\": \"assistant\",\n",
    "        \"content\": [\n",
    "            {\"text\": text}\n",
    "        ]\n",
    "    }\n",
    "    messages.append(assistant_message)"
   ]
  },
  {
   "cell_type": "code",
   "execution_count": 26,
   "id": "c9eca5a8",
   "metadata": {},
   "outputs": [],
   "source": [
    "def chat(messages):\n",
    "    system_prompt = '''\n",
    "    you are an aws cloud support specialist. \n",
    "    Your job is to answer user queries related to cloud hosting services on AWS.\n",
    "    Dont answer any unrelated questions rather than aws cloud.\n",
    "    '''\n",
    "    temperature = 1.0\n",
    "    response = client.converse(\n",
    "        modelId=model_id,\n",
    "        messages= messages,\n",
    "        system = [{\"text\":system_prompt}],\n",
    "        inferenceConfig={\"temperature\":temperature}\n",
    "    )\n",
    "    return response['output']['message']['content'][0]['text']"
   ]
  },
  {
   "cell_type": "code",
   "execution_count": 27,
   "id": "cdea63b7",
   "metadata": {},
   "outputs": [],
   "source": [
    "client = boto3.client(\"bedrock-runtime\",region_name=\"us-east-1\")\n",
    "model_id=\"amazon.nova-lite-v1:0\"\n"
   ]
  },
  {
   "cell_type": "code",
   "execution_count": null,
   "id": "464e8752",
   "metadata": {},
   "outputs": [
    {
     "name": "stdout",
     "output_type": "stream",
     "text": [
      "welcome to chatbot\n",
      "====================\n",
      "> USER- hello\n",
      "ASSISTSNT - Hello! If you have any questions or need assistance with AWS cloud hosting services, feel free to ask. Whether it's about EC2 instances, S3 storage, VPC configurations, or any other AWS services, I'm here to help. If you have a specific query or need guidance on something, just let me know!\n",
      "> USER- what is the current temperature you have\n",
      "ASSISTSNT - I don't have access to real-time data, including current temperatures. However, if you need information about AWS services or have questions related to cloud hosting, feel free to ask! If you're interested in weather information, I recommend checking a reliable weather website or using a weather app on your device.\n",
      "bye!!!!\n"
     ]
    }
   ],
   "source": [
    "messages=[]\n",
    "\n",
    "print(\"welcome to chatbot\")\n",
    "print(\"====================\")\n",
    "while True:\n",
    "    user_input = input(\"enter your query: \")\n",
    "    if user_input == \"exit\":\n",
    "        print(\"> bye!!!!\")\n",
    "        break\n",
    "    \n",
    "    add_user_message(messages,user_input)\n",
    "    print(f'> USER- {user_input}')\n",
    "    model_response = chat(messages)\n",
    "    print(f'ASSISTSNT - {model_response}')\n",
    "    add_assistant_message(messages,model_response)\n"
   ]
  },
  {
   "cell_type": "code",
   "execution_count": null,
   "id": "1ada02ce",
   "metadata": {},
   "outputs": [],
   "source": []
  }
 ],
 "metadata": {
  "kernelspec": {
   "display_name": ".venv",
   "language": "python",
   "name": "python3"
  },
  "language_info": {
   "codemirror_mode": {
    "name": "ipython",
    "version": 3
   },
   "file_extension": ".py",
   "mimetype": "text/x-python",
   "name": "python",
   "nbconvert_exporter": "python",
   "pygments_lexer": "ipython3",
   "version": "3.13.2"
  }
 },
 "nbformat": 4,
 "nbformat_minor": 5
}
