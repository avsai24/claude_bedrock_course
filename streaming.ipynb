{
 "cells": [
  {
   "cell_type": "code",
   "execution_count": 6,
   "id": "d1ebed41",
   "metadata": {},
   "outputs": [
    {
     "name": "stdout",
     "output_type": "stream",
     "text": [
      "{'messageStart': {'role': 'assistant'}}\n",
      "{'contentBlockDelta': {'delta': {'text': ''}, 'contentBlockIndex': 0}}\n",
      "{'contentBlockDelta': {'delta': {'text': '1 + 1 equals'}, 'contentBlockIndex': 0}}\n",
      "{'contentBlockDelta': {'delta': {'text': ' 2. This is a'}, 'contentBlockIndex': 0}}\n",
      "{'contentBlockDelta': {'delta': {'text': ' fundamental concept'}, 'contentBlockIndex': 0}}\n",
      "{'contentBlockDelta': {'delta': {'text': ' in'}, 'contentBlockIndex': 0}}\n",
      "{'contentBlockDelta': {'delta': {'text': ' arithmetic'}, 'contentBlockIndex': 0}}\n",
      "{'contentBlockDelta': {'delta': {'text': ', where'}, 'contentBlockIndex': 0}}\n",
      "{'contentBlockDelta': {'delta': {'text': ' the'}, 'contentBlockIndex': 0}}\n",
      "{'contentBlockDelta': {'delta': {'text': ' sum of two ones'}, 'contentBlockIndex': 0}}\n",
      "{'contentBlockDelta': {'delta': {'text': ' results'}, 'contentBlockIndex': 0}}\n",
      "{'contentBlockDelta': {'delta': {'text': ' in the'}, 'contentBlockIndex': 0}}\n",
      "{'contentBlockDelta': {'delta': {'text': ' number'}, 'contentBlockIndex': 0}}\n",
      "{'contentBlockDelta': {'delta': {'text': ' two'}, 'contentBlockIndex': 0}}\n",
      "{'contentBlockDelta': {'delta': {'text': '.'}, 'contentBlockIndex': 0}}\n",
      "{'contentBlockStop': {'contentBlockIndex': 0}}\n",
      "{'messageStop': {'stopReason': 'end_turn'}}\n",
      "{'metadata': {'usage': {'inputTokens': 7, 'outputTokens': 29, 'totalTokens': 36}, 'metrics': {'latencyMs': 310}}}\n"
     ]
    }
   ],
   "source": [
    "import boto3\n",
    "client = boto3.client(\"bedrock-runtime\",region_name=\"us-east-1\")\n",
    "model_id=\"amazon.nova-lite-v1:0\"\n",
    "\n",
    "user_message = {\n",
    "    \"role\": \"user\",\n",
    "    \"content\": [\n",
    "        {\"text\": \"what is 1 + 1\"}\n",
    "    ]\n",
    "}\n",
    "\n",
    "response = client.converse_stream(\n",
    "    modelId=model_id,\n",
    "    messages=[user_message]\n",
    ")\n",
    "for event in response[\"stream\"]:\n",
    "    print(event)"
   ]
  },
  {
   "cell_type": "code",
   "execution_count": 9,
   "id": "6f83016b",
   "metadata": {},
   "outputs": [
    {
     "name": "stdout",
     "output_type": "stream",
     "text": [
      "**Mahatma Gandhi: The Father of the Nation**\n",
      "\n",
      "Mahatma Gandhi, born as Mohandas Karamchand Gandhi on October 2, 1869, in Porbandar, India, is revered as the Father of the Nation. His life and philosophy have left an indelible mark on the world, particularly in the realm of nonviolent resistance and civil disobedience. Gandhi's journey from a young lawyer in South Africa to a global icon for peace and justice is a testament to his enduring legacy.\n",
      "\n",
      "**Early Life and Education**\n",
      "\n",
      "Gandhi was born into a Modh Bania family, a merchant caste. He received his early education in India, where he studied law at University College London, and later in South Africa, where he was exposed to racial discrimination. This experience profoundly influenced his worldview and ignited his commitment to social justice.\n",
      "\n",
      "**South African Years**\n",
      "\n",
      "In South Africa, Gandhi's fight against racial discrimination began. He organized the Indian community, advocating for their rights through peaceful means. His leadership during the passive resistance campaigns against discriminatory laws laid the groundwork for his philosophy of Satyagraha, which means \"truth force\" or \"soul force.\" This approach emphasized the power of truth and moral integrity over violence.\n",
      "\n",
      "**Return to India and the Freedom Struggle**\n",
      "\n",
      "Gandhi returned to India in 1915 and quickly became a pivotal figure in the Indian independence movement. He led numerous campaigns against British colonial rule, including the Non-Cooperation Movement (1920-1922), the Civil Disobedience Movement (1930-1934), and the Quit India Movement (1942). His methods of nonviolent protest, such as the Salt March in 1930, galvanized the Indian populace and drew international attention to the struggle for independence.\n",
      "\n",
      "**Philosophy and Principles**\n",
      "\n",
      "Gandhi's philosophy was deeply rooted in principles of nonviolence, truth, and simplicity. He believed in the inherent goodness of humanity and advocated for a life of simplicity and self-discipline. His concept of Swadeshi, promoting local industries and self-reliance, aimed to empower the Indian economy and reduce dependency on British goods.\n",
      "\n",
      "**Legacy and Impact**\n",
      "\n",
      "Gandhi's influence extended beyond India's borders. His ideas inspired civil rights movements worldwide, including the American Civil Rights Movement led by Martin Luther King Jr. and the anti-apartheid struggle in South Africa. His emphasis on nonviolent resistance has become a cornerstone of modern activism.\n",
      "\n",
      "**Personal Life and Final Years**\n",
      "\n",
      "Gandhi's personal life was marked by simplicity and dedication to his principles. He lived in ashrams, practiced vegetarianism, and promoted the use of khadi (hand-spun cloth) to support Indian artisans. His assassination on January 30, 1948, by a Hindu nationalist, was a tragic end to a life dedicated to peace and unity.\n",
      "\n",
      "**Conclusion**\n",
      "\n",
      "Mahatma Gandhi's life and teachings continue to inspire generations. His unwavering commitment to nonviolence, social justice, and self-reliance remains relevant in today's world. As the Father of the Nation, Gandhi's legacy is a beacon of hope and a reminder of the power of peaceful resistance in the face of oppression."
     ]
    }
   ],
   "source": [
    "user_message = {\n",
    "    \"role\": \"user\",\n",
    "    \"content\": [\n",
    "        {\"text\": \"can you write essay on mahatma gandhu\"}\n",
    "    ]\n",
    "}\n",
    "\n",
    "response = client.converse_stream(\n",
    "    modelId=model_id,\n",
    "    messages=[user_message]\n",
    ")\n",
    "for event in response[\"stream\"]:\n",
    "    if \"contentBlockDelta\" in event:\n",
    "        chunk = event[\"contentBlockDelta\"][\"delta\"][\"text\"]\n",
    "        print(chunk,end = \"\")"
   ]
  },
  {
   "cell_type": "code",
   "execution_count": null,
   "id": "2ed0f7c6",
   "metadata": {},
   "outputs": [],
   "source": []
  }
 ],
 "metadata": {
  "kernelspec": {
   "display_name": ".venv",
   "language": "python",
   "name": "python3"
  },
  "language_info": {
   "codemirror_mode": {
    "name": "ipython",
    "version": 3
   },
   "file_extension": ".py",
   "mimetype": "text/x-python",
   "name": "python",
   "nbconvert_exporter": "python",
   "pygments_lexer": "ipython3",
   "version": "3.13.2"
  }
 },
 "nbformat": 4,
 "nbformat_minor": 5
}
