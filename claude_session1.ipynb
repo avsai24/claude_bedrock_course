{
 "cells": [
  {
   "cell_type": "code",
   "execution_count": 43,
   "id": "72ec510b",
   "metadata": {},
   "outputs": [],
   "source": [
    "import boto3"
   ]
  },
  {
   "cell_type": "code",
   "execution_count": 44,
   "id": "d2c17c33",
   "metadata": {},
   "outputs": [],
   "source": [
    "client = boto3.client(\"bedrock-runtime\",region_name=\"us-east-1\")"
   ]
  },
  {
   "cell_type": "code",
   "execution_count": 45,
   "id": "7b0fe490",
   "metadata": {},
   "outputs": [
    {
     "data": {
      "text/plain": [
       "<botocore.client.BedrockRuntime at 0x1062dfe00>"
      ]
     },
     "execution_count": 45,
     "metadata": {},
     "output_type": "execute_result"
    }
   ],
   "source": [
    "client"
   ]
  },
  {
   "cell_type": "code",
   "execution_count": 46,
   "id": "296b6402",
   "metadata": {},
   "outputs": [],
   "source": [
    "model_id=\"amazon.nova-lite-v1:0\""
   ]
  },
  {
   "cell_type": "code",
   "execution_count": 47,
   "id": "5c4b5e9a",
   "metadata": {},
   "outputs": [],
   "source": [
    "user_message = {\n",
    "    \"role\": \"user\",\n",
    "    \"content\": [\n",
    "        {\"text\": \"what is 1 + 1\"}\n",
    "    ]\n",
    "}\n"
   ]
  },
  {
   "cell_type": "code",
   "execution_count": 48,
   "id": "e99b6466",
   "metadata": {},
   "outputs": [],
   "source": [
    "response = client.converse(\n",
    "    modelId=model_id,\n",
    "    messages=[user_message]\n",
    ")\n"
   ]
  },
  {
   "cell_type": "code",
   "execution_count": 49,
   "id": "39933673",
   "metadata": {},
   "outputs": [
    {
     "data": {
      "text/plain": [
       "{'ResponseMetadata': {'RequestId': '8f758512-4bf6-4028-883e-2f043e015e4f',\n",
       "  'HTTPStatusCode': 200,\n",
       "  'HTTPHeaders': {'date': 'Mon, 28 Jul 2025 01:26:43 GMT',\n",
       "   'content-type': 'application/json',\n",
       "   'content-length': '300',\n",
       "   'connection': 'keep-alive',\n",
       "   'x-amzn-requestid': '8f758512-4bf6-4028-883e-2f043e015e4f'},\n",
       "  'RetryAttempts': 0},\n",
       " 'output': {'message': {'role': 'assistant',\n",
       "   'content': [{'text': '1 + 1 equals 2. This is a basic arithmetic operation where you add the number 1 to another 1, resulting in a total of 2.'}]}},\n",
       " 'stopReason': 'end_turn',\n",
       " 'usage': {'inputTokens': 7, 'outputTokens': 35, 'totalTokens': 42},\n",
       " 'metrics': {'latencyMs': 305}}"
      ]
     },
     "execution_count": 49,
     "metadata": {},
     "output_type": "execute_result"
    }
   ],
   "source": [
    "response"
   ]
  },
  {
   "cell_type": "code",
   "execution_count": 50,
   "id": "48c097a2",
   "metadata": {},
   "outputs": [],
   "source": [
    "ans = response['output']['message']['content'][0]['text']"
   ]
  },
  {
   "cell_type": "code",
   "execution_count": 51,
   "id": "01d389f2",
   "metadata": {},
   "outputs": [
    {
     "data": {
      "text/plain": [
       "'1 + 1 equals 2. This is a basic arithmetic operation where you add the number 1 to another 1, resulting in a total of 2.'"
      ]
     },
     "execution_count": 51,
     "metadata": {},
     "output_type": "execute_result"
    }
   ],
   "source": [
    "ans"
   ]
  },
  {
   "cell_type": "markdown",
   "id": "f11ef022",
   "metadata": {},
   "source": [
    "## creating chatbot"
   ]
  },
  {
   "cell_type": "code",
   "execution_count": 52,
   "id": "cfe35da6",
   "metadata": {},
   "outputs": [],
   "source": [
    "def add_user_message(messages,text):\n",
    "    user_message = {\n",
    "        \"role\": \"user\",\n",
    "        \"content\": [\n",
    "            {\"text\": text}\n",
    "        ]\n",
    "    }\n",
    "    messages.append(user_message)"
   ]
  },
  {
   "cell_type": "code",
   "execution_count": 54,
   "id": "86761136",
   "metadata": {},
   "outputs": [],
   "source": [
    "def add_assistant_message(messages,text):\n",
    "    assistant_message = {\n",
    "        \"role\": \"assistant\",\n",
    "        \"content\": [\n",
    "            {\"text\": text}\n",
    "        ]\n",
    "    }\n",
    "    messages.append(assistant_message)"
   ]
  },
  {
   "cell_type": "code",
   "execution_count": 55,
   "id": "e6a342d7",
   "metadata": {},
   "outputs": [],
   "source": [
    "def chat(messages):\n",
    "    response = client.converse(\n",
    "        modelId=model_id,\n",
    "        messages= messages\n",
    "    )\n",
    "    return response['output']['message']['content'][0]['text']"
   ]
  },
  {
   "cell_type": "code",
   "execution_count": 56,
   "id": "046818cd",
   "metadata": {},
   "outputs": [],
   "source": [
    "messages = []"
   ]
  },
  {
   "cell_type": "code",
   "execution_count": 57,
   "id": "f831889d",
   "metadata": {},
   "outputs": [],
   "source": [
    "add_user_message(messages,\"what is 1+1\")"
   ]
  },
  {
   "cell_type": "code",
   "execution_count": 58,
   "id": "2680efdb",
   "metadata": {},
   "outputs": [
    {
     "data": {
      "text/plain": [
       "[{'role': 'user', 'content': [{'text': 'what is 1+1'}]}]"
      ]
     },
     "execution_count": 58,
     "metadata": {},
     "output_type": "execute_result"
    }
   ],
   "source": [
    "messages"
   ]
  },
  {
   "cell_type": "code",
   "execution_count": 61,
   "id": "798c63a1",
   "metadata": {},
   "outputs": [],
   "source": [
    "answer = chat(messages)"
   ]
  },
  {
   "cell_type": "code",
   "execution_count": 62,
   "id": "d645efe8",
   "metadata": {},
   "outputs": [
    {
     "data": {
      "text/plain": [
       "'1 + 1 equals 2. This is a fundamental concept in arithmetic, where adding two units together results in a total of two units.'"
      ]
     },
     "execution_count": 62,
     "metadata": {},
     "output_type": "execute_result"
    }
   ],
   "source": [
    "answer"
   ]
  },
  {
   "cell_type": "code",
   "execution_count": 63,
   "id": "be1b94f4",
   "metadata": {},
   "outputs": [],
   "source": [
    "add_assistant_message(messages,answer)"
   ]
  },
  {
   "cell_type": "code",
   "execution_count": 64,
   "id": "f5cc428c",
   "metadata": {},
   "outputs": [
    {
     "data": {
      "text/plain": [
       "[{'role': 'user', 'content': [{'text': 'what is 1+1'}]},\n",
       " {'role': 'assistant',\n",
       "  'content': [{'text': '1 + 1 equals 2. This is a fundamental concept in arithmetic, where adding two units together results in a total of two units.'}]}]"
      ]
     },
     "execution_count": 64,
     "metadata": {},
     "output_type": "execute_result"
    }
   ],
   "source": [
    "messages"
   ]
  },
  {
   "cell_type": "code",
   "execution_count": 65,
   "id": "a54d0f75",
   "metadata": {},
   "outputs": [],
   "source": [
    "add_user_message(messages,\"add 3 more\")"
   ]
  },
  {
   "cell_type": "code",
   "execution_count": 66,
   "id": "8ab38f5a",
   "metadata": {},
   "outputs": [
    {
     "data": {
      "text/plain": [
       "'If you add 3 more to the result of 1 + 1, you get:\\n\\n\\\\[ 1 + 1 + 3 = 5 \\\\]\\n\\nSo, 1 + 1 + 3 equals 5.'"
      ]
     },
     "execution_count": 66,
     "metadata": {},
     "output_type": "execute_result"
    }
   ],
   "source": [
    "ans = chat(messages)\n",
    "ans"
   ]
  },
  {
   "cell_type": "code",
   "execution_count": 69,
   "id": "4c6864f8",
   "metadata": {},
   "outputs": [],
   "source": [
    "add_assistant_message(messages,ans)"
   ]
  },
  {
   "cell_type": "code",
   "execution_count": 70,
   "id": "f572129f",
   "metadata": {},
   "outputs": [
    {
     "data": {
      "text/plain": [
       "[{'role': 'user', 'content': [{'text': 'what is 1+1'}]},\n",
       " {'role': 'assistant',\n",
       "  'content': [{'text': '1 + 1 equals 2. This is a fundamental concept in arithmetic, where adding two units together results in a total of two units.'}]},\n",
       " {'role': 'user', 'content': [{'text': 'add 3 more'}]},\n",
       " {'role': 'assistant',\n",
       "  'content': [{'text': 'If you add 3 more to the result of 1 + 1, you get:\\n\\n\\\\[ 1 + 1 + 3 = 5 \\\\]\\n\\nSo, 1 + 1 + 3 equals 5.'}]}]"
      ]
     },
     "execution_count": 70,
     "metadata": {},
     "output_type": "execute_result"
    }
   ],
   "source": [
    "messages"
   ]
  },
  {
   "cell_type": "code",
   "execution_count": null,
   "id": "294cb76c",
   "metadata": {},
   "outputs": [],
   "source": []
  }
 ],
 "metadata": {
  "kernelspec": {
   "display_name": ".venv",
   "language": "python",
   "name": "python3"
  },
  "language_info": {
   "codemirror_mode": {
    "name": "ipython",
    "version": 3
   },
   "file_extension": ".py",
   "mimetype": "text/x-python",
   "name": "python",
   "nbconvert_exporter": "python",
   "pygments_lexer": "ipython3",
   "version": "3.13.2"
  }
 },
 "nbformat": 4,
 "nbformat_minor": 5
}
