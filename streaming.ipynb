{
 "cells": [
  {
   "cell_type": "code",
   "execution_count": 6,
   "id": "d1ebed41",
   "metadata": {},
   "outputs": [
    {
     "name": "stdout",
     "output_type": "stream",
     "text": [
      "{'messageStart': {'role': 'assistant'}}\n",
      "{'contentBlockDelta': {'delta': {'text': ''}, 'contentBlockIndex': 0}}\n",
      "{'contentBlockDelta': {'delta': {'text': '1 + 1 equals'}, 'contentBlockIndex': 0}}\n",
      "{'contentBlockDelta': {'delta': {'text': ' 2. This is a'}, 'contentBlockIndex': 0}}\n",
      "{'contentBlockDelta': {'delta': {'text': ' fundamental concept'}, 'contentBlockIndex': 0}}\n",
      "{'contentBlockDelta': {'delta': {'text': ' in'}, 'contentBlockIndex': 0}}\n",
      "{'contentBlockDelta': {'delta': {'text': ' arithmetic'}, 'contentBlockIndex': 0}}\n",
      "{'contentBlockDelta': {'delta': {'text': ', where'}, 'contentBlockIndex': 0}}\n",
      "{'contentBlockDelta': {'delta': {'text': ' the'}, 'contentBlockIndex': 0}}\n",
      "{'contentBlockDelta': {'delta': {'text': ' sum of two ones'}, 'contentBlockIndex': 0}}\n",
      "{'contentBlockDelta': {'delta': {'text': ' results'}, 'contentBlockIndex': 0}}\n",
      "{'contentBlockDelta': {'delta': {'text': ' in the'}, 'contentBlockIndex': 0}}\n",
      "{'contentBlockDelta': {'delta': {'text': ' number'}, 'contentBlockIndex': 0}}\n",
      "{'contentBlockDelta': {'delta': {'text': ' two'}, 'contentBlockIndex': 0}}\n",
      "{'contentBlockDelta': {'delta': {'text': '.'}, 'contentBlockIndex': 0}}\n",
      "{'contentBlockStop': {'contentBlockIndex': 0}}\n",
      "{'messageStop': {'stopReason': 'end_turn'}}\n",
      "{'metadata': {'usage': {'inputTokens': 7, 'outputTokens': 29, 'totalTokens': 36}, 'metrics': {'latencyMs': 310}}}\n"
     ]
    }
   ],
   "source": [
    "import boto3\n",
    "client = boto3.client(\"bedrock-runtime\",region_name=\"us-east-1\")\n",
    "model_id=\"amazon.nova-lite-v1:0\"\n",
    "\n",
    "user_message = {\n",
    "    \"role\": \"user\",\n",
    "    \"content\": [\n",
    "        {\"text\": \"what is 1 + 1\"}\n",
    "    ]\n",
    "}\n",
    "\n",
    "response = client.converse_stream(\n",
    "    modelId=model_id,\n",
    "    messages=[user_message]\n",
    ")\n",
    "for event in response[\"stream\"]:\n",
    "    print(event)"
   ]
  },
  {
   "cell_type": "code",
   "execution_count": null,
   "id": "6f83016b",
   "metadata": {},
   "outputs": [],
   "source": [
    "user_message = {\n",
    "    \"role\": \"user\",\n",
    "    \"content\": [\n",
    "        {\"text\": \"what is 1 + 1\"}\n",
    "    ]\n",
    "}\n",
    "\n",
    "response = client.converse_stream(\n",
    "    modelId=model_id,\n",
    "    messages=[user_message]\n",
    ")\n",
    "for event in response[\"stream\"]:\n",
    "    if \"contentBlockDelta\" in event:\n",
    "        chunk = event[\"contentBlockDelta\"][\"delta\"][\"text\"]\n",
    "        print(chunk,end = \"\")"
   ]
  }
 ],
 "metadata": {
  "kernelspec": {
   "display_name": ".venv",
   "language": "python",
   "name": "python3"
  },
  "language_info": {
   "codemirror_mode": {
    "name": "ipython",
    "version": 3
   },
   "file_extension": ".py",
   "mimetype": "text/x-python",
   "name": "python",
   "nbconvert_exporter": "python",
   "pygments_lexer": "ipython3",
   "version": "3.13.2"
  }
 },
 "nbformat": 4,
 "nbformat_minor": 5
}
